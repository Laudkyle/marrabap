{
 "cells": [
  {
   "cell_type": "code",
   "execution_count": 1,
   "id": "70c06ab4-ad3f-467f-a3ea-fe9e69dc2847",
   "metadata": {},
   "outputs": [],
   "source": [
    "import nbformat\n",
    "\n",
    "# Load the source notebook\n",
    "with open('bert_project.ipynb', 'r') as src_file:\n",
    "    src_notebook = nbformat.read(src_file, as_version=4)\n",
    "\n",
    "# Load the destination notebook\n",
    "with open('MINING_DATA_FROM_TALENT_PROFILES_OF_APPLICANTS_USING_MACHINE_LEARNING_ALGORITHMS_FOR_JOB_APPLICAN.ipynb', 'r') as dest_file:\n",
    "    dest_notebook = nbformat.read(dest_file, as_version=4)\n",
    "\n",
    "# Append cells from source to destination\n",
    "dest_notebook.cells.extend(src_notebook.cells)\n",
    "\n",
    "# Save the combined notebook\n",
    "with open('merged_notebook.ipynb', 'w') as merged_file:\n",
    "    nbformat.write(dest_notebook, merged_file)\n"
   ]
  },
  {
   "cell_type": "code",
   "execution_count": null,
   "id": "99e897b1-51ac-4ef9-a8cd-6769d032c237",
   "metadata": {},
   "outputs": [],
   "source": []
  }
 ],
 "metadata": {
  "kernelspec": {
   "display_name": "Python 3 (ipykernel)",
   "language": "python",
   "name": "python3"
  },
  "language_info": {
   "codemirror_mode": {
    "name": "ipython",
    "version": 3
   },
   "file_extension": ".py",
   "mimetype": "text/x-python",
   "name": "python",
   "nbconvert_exporter": "python",
   "pygments_lexer": "ipython3",
   "version": "3.12.3"
  }
 },
 "nbformat": 4,
 "nbformat_minor": 5
}
